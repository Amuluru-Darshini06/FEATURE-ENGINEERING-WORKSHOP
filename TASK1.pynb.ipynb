{
  "metadata": {
    "kernelspec": {
      "name": "python",
      "display_name": "Python (Pyodide)",
      "language": "python"
    },
    "language_info": {
      "codemirror_mode": {
        "name": "python",
        "version": 3
      },
      "file_extension": ".py",
      "mimetype": "text/x-python",
      "name": "python",
      "nbconvert_exporter": "python",
      "pygments_lexer": "ipython3",
      "version": "3.8"
    }
  },
  "nbformat_minor": 5,
  "nbformat": 4,
  "cells": [
    {
      "id": "2b308e8f-c8f8-473f-9557-215ad91e8e38",
      "cell_type": "code",
      "source": "# Step 1: Import Libraries\nimport pandas as pd\nfrom sklearn.datasets import load_iris\nfrom sklearn.model_selection import train_test_split\nfrom sklearn.preprocessing import PolynomialFeatures\nfrom sklearn.tree import DecisionTreeClassifier\nfrom sklearn.ensemble import RandomForestClassifier\nfrom sklearn.metrics import accuracy_score\n\n# Step 2: Load Dataset\niris = load_iris()\nX = pd.DataFrame(iris.data, columns=iris.feature_names)\ny = iris.target\n\n# Step 3: Train-Test Split\nX_train, X_test, y_train, y_test = train_test_split(X, y, test_size=0.3, random_state=0)\n\n# Step 4: Feature Engineering - Polynomial & Interaction Features\npoly = PolynomialFeatures(degree=2, include_bias=False)\nX_train_poly = poly.fit_transform(X_train)\nX_test_poly = poly.transform(X_test)\n\n# Step 5: Decision Tree Classifier\ndt = DecisionTreeClassifier()\ndt.fit(X_train_poly, y_train)\ny_pred_dt = dt.predict(X_test_poly)\nacc_dt = accuracy_score(y_test, y_pred_dt)\n\n# Step 6: Random Forest Classifier\nrf = RandomForestClassifier(n_estimators=100)\nrf.fit(X_train_poly, y_train)\ny_pred_rf = rf.predict(X_test_poly)\nacc_rf = accuracy_score(y_test, y_pred_rf)\n\n# Step 7: Print Accuracy\nprint(\"Decision Tree Accuracy:\", acc_dt)\nprint(\"Random Forest Accuracy:\", acc_rf)\n",
      "metadata": {
        "trusted": true
      },
      "outputs": [
        {
          "name": "stdout",
          "output_type": "stream",
          "text": "Decision Tree Accuracy: 0.9777777777777777\nRandom Forest Accuracy: 0.9777777777777777\n"
        }
      ],
      "execution_count": 1
    },
    {
      "id": "e78ee2a5-cb03-407d-93d1-305d833782d7",
      "cell_type": "code",
      "source": "",
      "metadata": {
        "trusted": true
      },
      "outputs": [],
      "execution_count": null
    }
  ]
}